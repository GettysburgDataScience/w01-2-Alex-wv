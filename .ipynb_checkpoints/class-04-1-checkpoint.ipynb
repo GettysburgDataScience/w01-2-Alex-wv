{
 "cells": [
  {
   "cell_type": "markdown",
   "id": "569f32c0-c8bf-4066-b6f8-368753216564",
   "metadata": {},
   "source": [
    "DS 256 Data Science Programming, Fall 2024\n",
    "\n",
    "Prof Eatai Roth\n",
    "\n",
    "Class 4.1\n",
    "\n",
    "Today, I'll briefly introduce packages and how we import them [WTOP Ch 14](https://jakevdp.github.io/WhirlwindTourOfPython/13-modules-and-packages.html). \n",
    "\n",
    "Then we'll put everything we've learned together to hack together something cool."
   ]
  },
  {
   "cell_type": "markdown",
   "id": "7e9da6c5-646b-425a-99ae-cd105d94a435",
   "metadata": {},
   "source": [
    "## Packages and Modules\n",
    "\n",
    "So far, we've mainly used base Python with a few peeks at functions not in base Python (e.g. sleep and plot). We can extend the functionality of our code by incorporating specialized modules or packages (a package is a collection of modules...we'll just refer to everything as a package).\n",
    "\n",
    "Packages may provide new data types and functions. We may choose to incorporate a package in its entirety or select only the functions we want.\n",
    "\n",
    "The most common packages we'll use moving forward in this course are:\n",
    "\n",
    " - numpy (alias np) - arrays and vectorized math, common math operations\n",
    " - pandas (alias pd) - dataframes and dataframe manipulation\n",
    " - matplotlib.pyplot (alias plt) - data visualization\n",
    " - sklearn - full name scikit-learn, modeling machine learning\n",
    "\n",
    "You will also refer to the documentation for these packages frequently."
   ]
  },
  {
   "cell_type": "markdown",
   "id": "2adc2b5b-3bf5-4d97-b085-f12dfd1dff75",
   "metadata": {},
   "source": [
    "### Importing Packages\n",
    "\n",
    "#### Importing entire packages\n",
    "\n",
    "We can import an entire package with:\n",
    "\n",
    "```\n",
    "import <package name>\n",
    "```\n",
    "\n",
    "Once imported, we can then use functions from the package as:\n",
    "\n",
    "```\n",
    "<package name>.<function>"
   ]
  },
  {
   "cell_type": "code",
   "execution_count": 5,
   "id": "d330c267-f85d-44c0-b9f0-bcbf54849668",
   "metadata": {},
   "outputs": [],
   "source": [
    "import numpy"
   ]
  },
  {
   "cell_type": "code",
   "execution_count": 7,
   "id": "5f85d238-d3f4-4a97-b7fa-a4dcb54a5015",
   "metadata": {},
   "outputs": [
    {
     "name": "stdout",
     "output_type": "stream",
     "text": [
      "3.141592653589793\n",
      "1.0\n",
      "[ 0.          3.14159265 11.36      ]\n"
     ]
    }
   ],
   "source": [
    "print(numpy.pi)\n",
    "print(numpy.sin(numpy.pi/2))\n",
    "\n",
    "vect = numpy.array([0, numpy.pi, 11.36])\n",
    "print(vect)"
   ]
  },
  {
   "cell_type": "markdown",
   "id": "33e023b2-bfdf-4fa1-8b0b-8845d5daa71a",
   "metadata": {},
   "source": [
    "### Importing with Aliases\n",
    "\n",
    "It will get tiring typing numpy every time you want to call a function from numpy. So it is common to abbreviate the package name by assigning it an *alias*. Some packages are so widely used, there is a conventional alias that everybody uses; in the list above, the common alias is in ().\n",
    "\n",
    "We assign an alias at import using:\n",
    "\n",
    "```\n",
    "import <package name> as <alias>\n",
    "```\n",
    "\n",
    "and then to use functions from the package:\n",
    "\n",
    "```\n",
    "<alias>.<function>\n",
    "```"
   ]
  },
  {
   "cell_type": "code",
   "execution_count": 8,
   "id": "bad232ea-a249-41cf-933a-d1ceadfd8812",
   "metadata": {},
   "outputs": [],
   "source": [
    "import numpy as np"
   ]
  },
  {
   "cell_type": "code",
   "execution_count": 10,
   "id": "1b200abf-a3fa-47ae-97e1-cf01f2aeb2d0",
   "metadata": {},
   "outputs": [
    {
     "name": "stdout",
     "output_type": "stream",
     "text": [
      "3.141592653589793\n",
      "1.0\n",
      "[ 0.          3.14159265 11.36      ]\n"
     ]
    }
   ],
   "source": [
    "print(np.pi)\n",
    "print(np.sin(np.pi/2))\n",
    "\n",
    "vect = np.array([0, np.pi, 11.36])\n",
    "print(vect)"
   ]
  },
  {
   "cell_type": "markdown",
   "id": "df2b379a-fc9f-4e34-854d-e75070a3176c",
   "metadata": {},
   "source": [
    "### Importing Select Functions\n",
    "\n",
    "And sometimes, we may only need a few functions from a package, and we can import those individually.\n",
    "\n",
    "```\n",
    "from <package> import <f1>, <f2>\n",
    "```\n",
    "\n",
    "and then we can use these functions without prefix.\n",
    "\n",
    "We import select functions when:\n",
    "    - we really only need very few functions from a package\n",
    "    - the package is very large and we don't want to import the whole thing (sklearn for example)"
   ]
  },
  {
   "cell_type": "code",
   "execution_count": 11,
   "id": "780aed37-b7e0-426b-a29c-7c213d95f2b1",
   "metadata": {},
   "outputs": [
    {
     "name": "stdout",
     "output_type": "stream",
     "text": [
      "1.0\n",
      "1.0\n"
     ]
    }
   ],
   "source": [
    "from numpy import sin, cos, pi\n",
    "\n",
    "print(cos(0))\n",
    "print(sin(pi/2))"
   ]
  },
  {
   "cell_type": "markdown",
   "id": "049b68e5-ae83-4a59-943e-5b7a34f00e8b",
   "metadata": {},
   "source": [
    "# THE GAME(s)\n",
    "\n",
    " - Hi-Lo\n",
    " - Blackjack\n",
    " - Simon<sup>TM</sup>\n",
    " - Wordle<sup>TM</sup>"
   ]
  }
 ],
 "metadata": {
  "kernelspec": {
   "display_name": "Python 3 (ipykernel)",
   "language": "python",
   "name": "python3"
  },
  "language_info": {
   "codemirror_mode": {
    "name": "ipython",
    "version": 3
   },
   "file_extension": ".py",
   "mimetype": "text/x-python",
   "name": "python",
   "nbconvert_exporter": "python",
   "pygments_lexer": "ipython3",
   "version": "3.12.4"
  }
 },
 "nbformat": 4,
 "nbformat_minor": 5
}
