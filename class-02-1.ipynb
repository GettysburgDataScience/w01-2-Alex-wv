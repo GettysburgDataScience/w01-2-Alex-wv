{
 "cells": [
  {
   "cell_type": "markdown",
   "id": "01e97ff6-f704-4823-bbfd-c145dae00844",
   "metadata": {},
   "source": [
    "DS 256 Data Science Programming, Fall 2024\n",
    "Prof Eatai Roth\n",
    "\n",
    "Class 1.1\n",
    "\n",
    "This class we'll be introducing new data types: lists and tuples.\n",
    "You can read more about lists and tuples in [WTOP Ch 6](https://jakevdp.github.io/WhirlwindTourOfPython/06-built-in-data-structures.html).\n",
    "\n"
   ]
  },
  {
   "cell_type": "markdown",
   "id": "44fee194-34fd-432b-9268-ef937c921d23",
   "metadata": {},
   "source": [
    "### ASIDE: downloading the textbook\n",
    "\n",
    "You can download (NOT clone) the entire textbook as interactive notebooks."
   ]
  },
  {
   "cell_type": "markdown",
   "id": "c839eaf5-0cf0-4027-b238-3588851f8ece",
   "metadata": {},
   "source": [
    "### ASIDE: how to export class notes to PDF\n",
    "\n",
    "If you'd like to keep a copy of class notes as PDF, you can export Jupyter notebooks using \n",
    "\n",
    "File > Save and Export Notebook as... > PDF\n",
    "\n",
    "If you get an error that you are missing XeLaTeX, you can install XeLatex on your machine with either:\n",
    " - [MikTeX for Windows, MacOs, Linux](https://miktex.org/download)\n",
    "\n",
    "If you are using MacOS, open terminal and type.\n",
    "\n",
    "```export PATH=/Library/TeX/texbin:$PATH```\n",
    "\n",
    "Then quite Jupyter Lab (File > Shut Down) and relaunch.\n",
    "\n",
    "You may also need to [install pandoc](https://pandoc.org/installing.html)."
   ]
  },
  {
   "cell_type": "markdown",
   "id": "0a0b6ac0-cbf3-4e85-bc69-6352da3f7253",
   "metadata": {},
   "source": [
    "## Lists\n",
    "\n",
    "A *list* is an ordered grouping of data.\n",
    "\n",
    "Lists in Python are enclosed in brackets with items separated by commas. Lists can contain any object type and types don't need to be consistent within the list."
   ]
  },
  {
   "cell_type": "code",
   "execution_count": 12,
   "id": "82be8d3e-ebd2-49a4-9b49-5c02c02f2120",
   "metadata": {},
   "outputs": [
    {
     "data": {
      "text/plain": [
       "[1, 2, 'hello', 3.5, False, 5, 6, 'hello']"
      ]
     },
     "execution_count": 12,
     "metadata": {},
     "output_type": "execute_result"
    }
   ],
   "source": [
    "A = [1,2, 'hello', 3.5, False]\n",
    "B= [5,6, 'hello']\n",
    "A+B"
   ]
  },
  {
   "cell_type": "code",
   "execution_count": null,
   "id": "a7fd31d4-857f-4bc2-86bc-4d364052c5af",
   "metadata": {},
   "outputs": [],
   "source": [
    "A.append('celery')"
   ]
  },
  {
   "cell_type": "markdown",
   "id": "fcf007d9-7d24-4600-aab5-010b27ff3790",
   "metadata": {},
   "source": [
    "### Indexing of lists\n",
    "\n",
    "The locations in a list are indexed by number, starting at 0. That is, a list starts with a zero-th entry.\n",
    "\n",
    "Alternatively, you can index lists from the end backwards starting with -1 (the last item in a list).\n",
    "\n",
    "You extract a value from a list using brackets. For example, ```myList[5]``` would return the 6th entry of the list.\n",
    "\n",
    "And you can use indexing to assign new values to items in the list."
   ]
  },
  {
   "cell_type": "code",
   "execution_count": 14,
   "id": "4ea7c52a-5ca1-46a2-b664-ae86d3fe8606",
   "metadata": {},
   "outputs": [],
   "source": [
    "A = ['zero', 'a', 'b', 3, 4, 'cinq', 'six', 'vii', 8.0]"
   ]
  },
  {
   "cell_type": "code",
   "execution_count": 16,
   "id": "243ddafd-a9ce-4a57-aa9f-3d46e9f80e72",
   "metadata": {},
   "outputs": [
    {
     "data": {
      "text/plain": [
       "'vii'"
      ]
     },
     "execution_count": 16,
     "metadata": {},
     "output_type": "execute_result"
    }
   ],
   "source": [
    "A[-2]\n",
    "A[7]"
   ]
  },
  {
   "cell_type": "markdown",
   "id": "34d0a707-71d7-4b06-a67e-4c19d75e5fce",
   "metadata": {},
   "source": [
    "### Slicing lists\n",
    "\n",
    "A slice is an extraction of a sub-list from a list.\n",
    "\n",
    "You slice a list as:\n",
    "\n",
    "```\n",
    "myList[startIdx:stopIdx:stepSize]\n",
    "```\n",
    "Notes:\n",
    "\n",
    " - the list will go up to but not include the stopIdx.\n",
    " - any of the parameters can be skipped.\n",
    "\n",
    "Try some of these:\n",
    " - myList[0:5:2] - this goes from 0 to 4 skipping every other\n",
    " - myList[0:5] - this goes from 0-4\n",
    " - myList[4::] - Last 4 numbers\n",
    " - myList[::3] - numbers 0-2\n",
    " - myList[-3:] - last 3 numbers\n"
   ]
  },
  {
   "cell_type": "code",
   "execution_count": null,
   "id": "8ff7b70b-81fb-4a58-9b8b-9679d9ec8f2f",
   "metadata": {},
   "outputs": [],
   "source": [
    "A[0:5:2]"
   ]
  },
  {
   "cell_type": "code",
   "execution_count": null,
   "id": "4e7ffe1b-2c37-4e72-a94b-207c1ec4815b",
   "metadata": {},
   "outputs": [],
   "source": [
    "['zero', 'b', 4]"
   ]
  },
  {
   "cell_type": "code",
   "execution_count": null,
   "id": "05e57c94-d307-4316-92e2-673245a91178",
   "metadata": {},
   "outputs": [],
   "source": [
    "A[0:5]"
   ]
  },
  {
   "cell_type": "code",
   "execution_count": null,
   "id": "18ebad2f-03d9-4ea2-885b-7a068ff120f3",
   "metadata": {},
   "outputs": [],
   "source": [
    "['zerp', 'a', 'b', 3, 4]"
   ]
  },
  {
   "cell_type": "code",
   "execution_count": null,
   "id": "2d3ff775-b937-4fb8-94cf-96b9b7cb1dbd",
   "metadata": {},
   "outputs": [],
   "source": [
    "A[-3::-1]"
   ]
  },
  {
   "cell_type": "code",
   "execution_count": null,
   "id": "1083c26c-1394-4ab5-9255-24afcd5a2fc5",
   "metadata": {},
   "outputs": [],
   "source": [
    "['six', 'cinco', 4, 3, 'b', 'a']"
   ]
  },
  {
   "cell_type": "markdown",
   "id": "ccb08874-9c9b-4ec8-8193-abc4b4f4186e",
   "metadata": {},
   "source": [
    "### Finding an element in a list\n",
    "\n",
    "If a list contains an element, you can find where that element is using ```.index(searchItem)```"
   ]
  },
  {
   "cell_type": "code",
   "execution_count": null,
   "id": "03de1cc5-5440-4705-be80-2e896bf38770",
   "metadata": {},
   "outputs": [],
   "source": [
    "myFavoritePets = ['Ramona RIP', 'Boyd', 'MJ', 'Raylan', 'Puff']"
   ]
  },
  {
   "cell_type": "code",
   "execution_count": 18,
   "id": "0c2a7bce-1fe8-4c87-a9e0-3ff760aaea49",
   "metadata": {},
   "outputs": [
    {
     "ename": "NameError",
     "evalue": "name 'myFavoritePets' is not defined",
     "output_type": "error",
     "traceback": [
      "\u001b[0;31m---------------------------------------------------------------------------\u001b[0m",
      "\u001b[0;31mNameError\u001b[0m                                 Traceback (most recent call last)",
      "Cell \u001b[0;32mIn[18], line 1\u001b[0m\n\u001b[0;32m----> 1\u001b[0m myFavoritePets\u001b[38;5;241m.\u001b[39mindex(\u001b[38;5;124m'\u001b[39m\u001b[38;5;124mMJ\u001b[39m\u001b[38;5;124m'\u001b[39m)\n",
      "\u001b[0;31mNameError\u001b[0m: name 'myFavoritePets' is not defined"
     ]
    }
   ],
   "source": [
    "myFavoritePets.index('MJ')"
   ]
  },
  {
   "cell_type": "code",
   "execution_count": null,
   "id": "a5f696ce-7450-43a9-9167-a522351073c1",
   "metadata": {},
   "outputs": [],
   "source": [
    "2"
   ]
  },
  {
   "cell_type": "markdown",
   "id": "f54c3daa-c954-4583-b116-3baf35614b1a",
   "metadata": {},
   "source": [
    "## Tuples\n",
    "\n",
    "Tuples are like lists in that they group any number of any kind of items. A tuple is enclosed in parentheses.\n",
    "\n",
    "```\n",
    "myTuple = (1,2,'hello')\n",
    "```\n",
    "HOWEVER, tuples are immutable. That just means that once they're created, you cannot change them."
   ]
  },
  {
   "cell_type": "code",
   "execution_count": null,
   "id": "aac0b0a3-8b1a-4394-8031-42f320cd0dae",
   "metadata": {},
   "outputs": [],
   "source": [
    "myTuple = (1,2, 'hello')\n",
    "myTuple[2]"
   ]
  },
  {
   "cell_type": "code",
   "execution_count": null,
   "id": "03e930b4-934b-4252-b9ba-6435d85327d0",
   "metadata": {},
   "outputs": [],
   "source": [
    "'hello'"
   ]
  },
  {
   "cell_type": "markdown",
   "id": "9066c769-11de-4706-b4ff-e1135374316f",
   "metadata": {},
   "source": [
    "## Logical operators\n",
    "\n",
    "If you make a comparison of two values, the result is a Boolean. Some comparisons you might make are:\n",
    "\n",
    " - \\> - greater than\n",
    " - < - less than\n",
    " - \\>= greater than or equal to\n",
    " - == equal to (note the difference between = and ==)\n",
    " - != not equal to\n",
    "\n",
    "You can also combine boolean statements with *logical operators*:\n",
    "\n",
    " - ```and``` - A and B is ```True``` only if both are ```True```\n",
    " - ```or``` - A or B is ```True``` if at least one of them is ```True```\n",
    " - not - not A is the opposite of whatever A is."
   ]
  },
  {
   "cell_type": "code",
   "execution_count": 20,
   "id": "675f8adb-a3f9-4735-8515-1da8ff4eda13",
   "metadata": {},
   "outputs": [],
   "source": [
    "x=11"
   ]
  },
  {
   "cell_type": "code",
   "execution_count": null,
   "id": "bbfc5834-7f3f-456f-a97d-f1b6f0bbd19f",
   "metadata": {},
   "outputs": [],
   "source": [
    "(x>10) and (x<100)"
   ]
  },
  {
   "cell_type": "markdown",
   "id": "d05c375c-67ea-4e08-8858-7f410d451f75",
   "metadata": {},
   "source": [
    "You can also consider booleans to have values of 0 (for False) or 1 (for True).\n",
    "\n",
    "Try some arithmatic with True and False."
   ]
  },
  {
   "cell_type": "code",
   "execution_count": null,
   "id": "5c130b31-708f-48a0-9e8c-090659ac50c5",
   "metadata": {},
   "outputs": [],
   "source": []
  }
 ],
 "metadata": {
  "kernelspec": {
   "display_name": "Python 3 (ipykernel)",
   "language": "python",
   "name": "python3"
  },
  "language_info": {
   "codemirror_mode": {
    "name": "ipython",
    "version": 3
   },
   "file_extension": ".py",
   "mimetype": "text/x-python",
   "name": "python",
   "nbconvert_exporter": "python",
   "pygments_lexer": "ipython3",
   "version": "3.12.4"
  }
 },
 "nbformat": 4,
 "nbformat_minor": 5
}
